{
  "nbformat": 4,
  "nbformat_minor": 0,
  "metadata": {
    "colab": {
      "provenance": []
    },
    "kernelspec": {
      "name": "python3",
      "display_name": "Python 3"
    },
    "language_info": {
      "name": "python"
    }
  },
  "cells": [
    {
      "cell_type": "code",
      "execution_count": null,
      "metadata": {
        "id": "1eXlxgNQJWMH"
      },
      "outputs": [],
      "source": [
        "import numpy as np\n",
        "import pandas as pd\n",
        "import matplotlib.pyplot as plt"
      ]
    },
    {
      "cell_type": "code",
      "source": [
        "df = pd.read_csv(\"IPL.csv\")\n",
        "df[(df.Gender == \"Male\")][\"Gender\"]\n"
      ],
      "metadata": {
        "colab": {
          "base_uri": "https://localhost:8080/"
        },
        "id": "2nO35CoHJhvW",
        "outputId": "29ac7e74-5300-4fa9-ab39-722ecd68f39d"
      },
      "execution_count": null,
      "outputs": [
        {
          "output_type": "execute_result",
          "data": {
            "text/plain": [
              "1      Male\n",
              "2      Male\n",
              "3      Male\n",
              "4      Male\n",
              "5      Male\n",
              "       ... \n",
              "267    Male\n",
              "268    Male\n",
              "269    Male\n",
              "270    Male\n",
              "271    Male\n",
              "Name: Gender, Length: 225, dtype: object"
            ]
          },
          "metadata": {},
          "execution_count": 5
        }
      ]
    },
    {
      "cell_type": "code",
      "source": [
        "ages = df.loc[(df[\"Age\"] >= str(17)) & (df[\"Age\"] <= str(58))]\n",
        "# df.loc[(df[\"Age\"] >= 17) & (df[\"Age\"] <= 58)][\"Age\"].value_counts()"
      ],
      "metadata": {
        "id": "N1Y_5x-fLMoT"
      },
      "execution_count": null,
      "outputs": []
    },
    {
      "cell_type": "code",
      "source": [
        "ages.Age.value_counts().sort_index(ascending=True).plot(kind = 'bar')"
      ],
      "metadata": {
        "colab": {
          "base_uri": "https://localhost:8080/",
          "height": 452
        },
        "id": "0Cbo8tSnNmsE",
        "outputId": "00d6a299-5190-4821-e53e-360e36d69852"
      },
      "execution_count": null,
      "outputs": [
        {
          "output_type": "execute_result",
          "data": {
            "text/plain": [
              "<Axes: >"
            ]
          },
          "metadata": {},
          "execution_count": 10
        },
        {
          "output_type": "display_data",
          "data": {
            "text/plain": [
              "<Figure size 640x480 with 1 Axes>"
            ],
            "image/png": "[encoded data removed]"
          },
          "metadata": {}
        }
      ]
    },
    {
      "cell_type": "code",
      "source": [
        "no_of_matches = df[\"Matches\"]\n",
        "no_of_matches.describe()"
      ],
      "metadata": {
        "colab": {
          "base_uri": "https://localhost:8080/"
        },
        "id": "TCNTehSEPhFn",
        "outputId": "087005a6-a844-46b3-b99c-b8c01ecd0881"
      },
      "execution_count": null,
      "outputs": [
        {
          "output_type": "execute_result",
          "data": {
            "text/plain": [
              "count    271.000000\n",
              "mean       4.948339\n",
              "std        2.825333\n",
              "min        1.000000\n",
              "25%        3.000000\n",
              "50%        4.000000\n",
              "75%        7.000000\n",
              "max       10.000000\n",
              "Name: Matches, dtype: float64"
            ]
          },
          "metadata": {},
          "execution_count": 11
        }
      ]
    },
    {
      "cell_type": "code",
      "source": [
        "x = np.array(no_of_matches)\n",
        "x = x[~np.isnan(x)]\n",
        "plt.boxplot(x)\n",
        "plt.ylabel(\"No of Matches\")\n",
        "plt.show()"
      ],
      "metadata": {
        "colab": {
          "base_uri": "https://localhost:8080/",
          "height": 430
        },
        "id": "GC7CmL7mQj8g",
        "outputId": "c037a989-fdc2-4525-c0b4-6d82d93aa3e6"
      },
      "execution_count": null,
      "outputs": [
        {
          "output_type": "display_data",
          "data": {
            "text/plain": [
              "<Figure size 640x480 with 1 Axes>"
            ],
            "image/png": "[encoded data removed]"
          },
          "metadata": {}
        }
      ]
    },
    {
      "cell_type": "markdown",
      "source": [
        "Hypothesis 2"
      ],
      "metadata": {
        "id": "kC8mKD6z8Few"
      }
    },
    {
      "cell_type": "code",
      "source": [
        "matches_above20 = df.loc[df['Age'] > str(20), 'Matches']\n",
        "matches_above20.describe()"
      ],
      "metadata": {
        "id": "Srt9bCuvRxKP",
        "colab": {
          "base_uri": "https://localhost:8080/"
        },
        "outputId": "31a56eee-3c38-4101-e57d-dc5f93aa6e6d"
      },
      "execution_count": null,
      "outputs": [
        {
          "output_type": "execute_result",
          "data": {
            "text/plain": [
              "count    109.000000\n",
              "mean       4.541284\n",
              "std        2.839966\n",
              "min        1.000000\n",
              "25%        2.000000\n",
              "50%        4.000000\n",
              "75%        7.000000\n",
              "max       10.000000\n",
              "Name: Matches, dtype: float64"
            ]
          },
          "metadata": {},
          "execution_count": 13
        }
      ]
    },
    {
      "cell_type": "code",
      "source": [
        "matches_below20 = df.loc[df['Age'] <= str(20), 'Matches']\n",
        "matches_below20.describe()"
      ],
      "metadata": {
        "colab": {
          "base_uri": "https://localhost:8080/"
        },
        "id": "JWgIy6Vf4Uff",
        "outputId": "76807329-8d34-4b52-e04e-38659fc4844c"
      },
      "execution_count": null,
      "outputs": [
        {
          "output_type": "execute_result",
          "data": {
            "text/plain": [
              "count    162.000000\n",
              "mean       5.222222\n",
              "std        2.790846\n",
              "min        1.000000\n",
              "25%        3.000000\n",
              "50%        5.000000\n",
              "75%        7.000000\n",
              "max       10.000000\n",
              "Name: Matches, dtype: float64"
            ]
          },
          "metadata": {},
          "execution_count": 14
        }
      ]
    },
    {
      "cell_type": "markdown",
      "source": [
        "Hypothesis testing 3"
      ],
      "metadata": {
        "id": "VB2osShBCO7D"
      }
    },
    {
      "cell_type": "code",
      "source": [
        "bachelors = df.loc[df['Program'] == 'Bachelors']['Matches']\n",
        "bachelors.describe()"
      ],
      "metadata": {
        "colab": {
          "base_uri": "https://localhost:8080/"
        },
        "id": "V1quz9TY_Gn7",
        "outputId": "578efead-87d7-4ece-c7a2-4820c7d14d20"
      },
      "execution_count": null,
      "outputs": [
        {
          "output_type": "execute_result",
          "data": {
            "text/plain": [
              "count    189.000000\n",
              "mean       5.216931\n",
              "std        2.805869\n",
              "min        1.000000\n",
              "25%        3.000000\n",
              "50%        5.000000\n",
              "75%        7.000000\n",
              "max       10.000000\n",
              "Name: Matches, dtype: float64"
            ]
          },
          "metadata": {},
          "execution_count": 15
        }
      ]
    },
    {
      "cell_type": "code",
      "source": [
        "PG = df.loc[(df['Program'] == 'Masters') | (df['Program'] == 'Research')]['Matches']\n",
        "PG.describe()"
      ],
      "metadata": {
        "colab": {
          "base_uri": "https://localhost:8080/"
        },
        "id": "74LQKz4MDaqr",
        "outputId": "e79cb00a-6d11-42c3-84b2-39beb2ae00a0"
      },
      "execution_count": null,
      "outputs": [
        {
          "output_type": "execute_result",
          "data": {
            "text/plain": [
              "count    82.000000\n",
              "mean      4.329268\n",
              "std       2.789110\n",
              "min       1.000000\n",
              "25%       2.000000\n",
              "50%       4.000000\n",
              "75%       6.000000\n",
              "max      10.000000\n",
              "Name: Matches, dtype: float64"
            ]
          },
          "metadata": {},
          "execution_count": 22
        }
      ]
    },
    {
      "cell_type": "code",
      "source": [
        "male = df.loc[df['Gender'] == 'Male']['Matches']\n",
        "male.describe()"
      ],
      "metadata": {
        "colab": {
          "base_uri": "https://localhost:8080/"
        },
        "id": "ipoex9AoNdMA",
        "outputId": "26a1d295-be58-4e17-8ebf-894c937bd81e"
      },
      "execution_count": null,
      "outputs": [
        {
          "output_type": "execute_result",
          "data": {
            "text/plain": [
              "count    225.000000\n",
              "mean       5.133333\n",
              "std        2.825269\n",
              "min        1.000000\n",
              "25%        3.000000\n",
              "50%        5.000000\n",
              "75%        7.000000\n",
              "max       10.000000\n",
              "Name: Matches, dtype: float64"
            ]
          },
          "metadata": {},
          "execution_count": 23
        }
      ]
    },
    {
      "cell_type": "code",
      "source": [
        "female = df.loc[df['Gender'] == 'Female']['Matches']\n",
        "female.describe()"
      ],
      "metadata": {
        "colab": {
          "base_uri": "https://localhost:8080/"
        },
        "id": "ERLlobRfNmlN",
        "outputId": "28fac2ce-f02c-4629-a29c-2399ceda59dc"
      },
      "execution_count": null,
      "outputs": [
        {
          "output_type": "execute_result",
          "data": {
            "text/plain": [
              "count    46.000000\n",
              "mean      4.043478\n",
              "std       2.674626\n",
              "min       1.000000\n",
              "25%       2.000000\n",
              "50%       3.000000\n",
              "75%       5.000000\n",
              "max      10.000000\n",
              "Name: Matches, dtype: float64"
            ]
          },
          "metadata": {},
          "execution_count": 25
        }
      ]
    }
  ]
}